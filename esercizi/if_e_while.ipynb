{
  "cells": [
    {
      "cell_type": "markdown",
      "metadata": {
        "id": "HB3XbPDcSqe1"
      },
      "source": [
        "# Esercizi IF"
      ]
    },
    {
      "cell_type": "code",
      "execution_count": 1,
      "metadata": {
        "id": "0U7L9A29RfeT"
      },
      "outputs": [
        {
          "name": "stdout",
          "output_type": "stream",
          "text": [
            "il numero è pari\n"
          ]
        }
      ],
      "source": [
        "# Es 4.1: Ottenere dall'utente un numero in input e scrivere a schermo \"Pari\" se il numero è pari, scrivere \"Dispari\" altrimenti\n",
        "x = int (input(\"Inserire un numero: \"))\n",
        "if x % 2 == 0 :\n",
        "   print (\"il numero è pari\" ) \n",
        "else :\n",
        "   print (\"il numero è dispari\") "
      ]
    },
    {
      "cell_type": "code",
      "execution_count": 2,
      "metadata": {
        "id": "gE3RVr9ORuwP"
      },
      "outputs": [
        {
          "name": "stdout",
          "output_type": "stream",
          "text": [
            "I tre angoli non sono gli angoli di un triangolo\n"
          ]
        }
      ],
      "source": [
        "# Es 4.2: Ottenere dall'utente tre angoli caso siano i tre angoli di un triangolo scrivere a schermo \"È un triangolo\", altrimenti \"Non è un triangolo\"\n",
        "x = float (input(\"Inserire il primo angolo: \"))\n",
        "y = float (input(\"Inserire il secondo angolo: \"))\n",
        "z = float (input(\"Inserire il terzo angolo: \"))\n",
        "if x + y + z == 180:\n",
        "    print (\"I tre angoli sono gli angoli di un triangolo\")\n",
        "else :\n",
        "    print (\"I tre angoli non sono gli angoli di un triangolo\")"
      ]
    },
    {
      "cell_type": "code",
      "execution_count": 11,
      "metadata": {
        "id": "r1A_DavcSKgi"
      },
      "outputs": [
        {
          "name": "stdout",
          "output_type": "stream",
          "text": [
            "Il triangolo \n",
            "non è rettangolo\n"
          ]
        }
      ],
      "source": [
        "# Es 4.3: Ottenuti dall'utente tre angoli di un tringolo scrivere a schermo se i tre angoli descrivono un triangolo rettangolo o no\n",
        "x = float (input(\"Inserire il primo angolo: \"))\n",
        "y = float (input(\"Inserire il secondo angolo: \"))\n",
        "z = float (input(\"Inserire il terzo angolo: \"))\n",
        "if x + y + z == 180:\n",
        "    print (\"Il triangolo \")\n",
        "    if x == 90 or y == 90 or z == 90:\n",
        "        print (\"è rettangolo\")\n",
        "    else:\n",
        "        print (\"non è rettangolo\")\n",
        "else :\n",
        "    print (\"Non sono angoli di un triangolo!\")"
      ]
    },
    {
      "cell_type": "code",
      "execution_count": 4,
      "metadata": {
        "id": "iA9D4X_GSims"
      },
      "outputs": [
        {
          "name": "stdout",
          "output_type": "stream",
          "text": [
            "Il triangolo \n",
            "è equilatero\n"
          ]
        }
      ],
      "source": [
        "# Es 4.4: Ottenuti dall'utente tre angoli di un tringolo scrivere a schermo se i tre angoli descrivono un triangolo equilatero o no\n",
        "x = float (input(\"Inserire il primo angolo: \"))\n",
        "y = float (input(\"Inserire il secondo angolo: \"))\n",
        "z = float (input(\"Inserire il terzo angolo: \"))\n",
        "if x + y + z == 180 :\n",
        "    print (\"Il triangolo \")\n",
        "    if x == y and y == z :\n",
        "        print (\"è equilatero\")\n",
        "    else :\n",
        "        print (\"non è equilatero\")\n",
        "else: \n",
        "    print(\"Non sono angoli di un triangolo!\")"
      ]
    },
    {
      "cell_type": "code",
      "execution_count": 3,
      "metadata": {
        "id": "8q4gadoTSU7J"
      },
      "outputs": [
        {
          "name": "stdout",
          "output_type": "stream",
          "text": [
            "Il triangolo \n",
            "è isoscele\n"
          ]
        }
      ],
      "source": [
        "# Es 4.5: Ottenuti dall'utente tre angoli di un tringolo scrivere a schermo se i tre angoli descrivono un triangolo isocele o no\n",
        "x = float (input(\"Inserire il primo angolo: \"))\n",
        "y = float (input(\"Inserire il secondo angolo: \"))\n",
        "z = float (input(\"Inserire il terzo angolo: \"))\n",
        "if x + y + z == 180:\n",
        "    print (\"Il triangolo \")\n",
        "    if x == y and y == z and x == z :\n",
        "        print (\"è equilatero\")\n",
        "    elif x == y or x == z or y == z :\n",
        "        print (\"è isoscele\")\n",
        "    else :\n",
        "        print (\"è scaleno\")\n",
        "else:\n",
        "    print (\"Non sono angoli di un triangolo!\")"
      ]
    },
    {
      "cell_type": "code",
      "execution_count": 2,
      "metadata": {
        "id": "yVIE2kK3SYlq"
      },
      "outputs": [
        {
          "name": "stdout",
          "output_type": "stream",
          "text": [
            "Il triangolo \n",
            "è rettangolo\n",
            "è scaleno\n"
          ]
        }
      ],
      "source": [
        "# Es 4.6: Ottenuti dall'utente tre angoli di un triangolo scrivere a schermo se i tre angoli descrivono un triangolo isocele, rettagolo, equilatero o scaleno\n",
        "x = float (input(\"Inserire il primo angolo: \"))\n",
        "y = float (input(\"Inserire il secondo angolo: \"))\n",
        "z = float (input(\"Inserire il terzo angolo: \"))\n",
        "if x + y + z == 180:\n",
        "    print (\"Il triangolo \")\n",
        "    if (x == 90 or y == 90 or z == 90):\n",
        "        print (\"è rettangolo\")\n",
        "    else :\n",
        "        print (\"non è rettangolo\")\n",
        "    if x == y and y == z and x == z :\n",
        "        print (\"è equilatero\")\n",
        "    elif x == y or x == z or y == z :\n",
        "        print (\"è isoscele\")\n",
        "    else :\n",
        "        print (\"è scaleno\")\n",
        "else:\n",
        "    print (\"Non sono angoli di un triangolo!\")"
      ]
    },
    {
      "cell_type": "markdown",
      "metadata": {
        "id": "ef5snVxLqeQh"
      },
      "source": [
        "# Esercizi WHILE\n"
      ]
    },
    {
      "cell_type": "code",
      "execution_count": 4,
      "metadata": {
        "id": "j61RqiHxqdmh"
      },
      "outputs": [
        {
          "name": "stdout",
          "output_type": "stream",
          "text": [
            "5\n",
            "5\n",
            "5\n",
            "5\n",
            "5\n"
          ]
        }
      ],
      "source": [
        "# Es 4.7: Creare una funzione print_n(n,v) che stampi n volte il. contenuto di v\n",
        "def print_n(n,v)  :\n",
        "    i=0\n",
        "    while i<n :\n",
        "        print (v)\n",
        "        i=i+1\n",
        "n = int (input(\"Inserisci un numero intero\"))\n",
        "v = int (input(\"Inserisci un altro numero\"))\n",
        "print_n(n,v)\n"
      ]
    },
    {
      "cell_type": "code",
      "execution_count": 1,
      "metadata": {
        "colab": {
          "base_uri": "https://localhost:8080/"
        },
        "id": "-6lAm-hfq9w9",
        "outputId": "399e82ba-3cfe-475f-f8df-0e156677ec75"
      },
      "outputs": [
        {
          "name": "stdout",
          "output_type": "stream",
          "text": [
            "1\n",
            "2\n",
            "4\n"
          ]
        }
      ],
      "source": [
        "# Es 4.8: Inserito il numero n dire per quali numeri, compresi tra 1 e n, è divisibile.\n",
        "# Inserisco 10: stampo 1,2,5\n",
        "# Inserisco 7: stampo 1\n",
        "def n_divisibili(n):\n",
        "    i = 1\n",
        "    while i <= n/2:\n",
        "        if n % i == 0:\n",
        "            print (i)\n",
        "            i=i+1\n",
        "        else:\n",
        "            i=i+1\n",
        "n=int(input(\"Inserire un numero intero: \"))\n",
        "n_divisibili(n)"
      ]
    },
    {
      "cell_type": "code",
      "execution_count": 6,
      "metadata": {
        "colab": {
          "base_uri": "https://localhost:8080/"
        },
        "id": "GjC4LdR7rP-b",
        "outputId": "9f539b4d-c307-479a-da13-610a7e1cc46e"
      },
      "outputs": [
        {
          "name": "stdout",
          "output_type": "stream",
          "text": [
            "Il numero è primo\n"
          ]
        }
      ],
      "source": [
        "# Es 4.9: Inserito il numero n dire se è primo o no\n",
        "n = int (input(\"Inserire un numero intero\"))\n",
        "i=2\n",
        "primo = True\n",
        "while i<n:\n",
        "    if n%i == 0:\n",
        "        primo = False\n",
        "        i=i+1\n",
        "    else :\n",
        "        i=i+1\n",
        "if primo == False:\n",
        "    print(\"Il numero non è primo\")\n",
        "else:\n",
        "    print(\"Il numero è primo\")\n"
      ]
    },
    {
      "cell_type": "code",
      "execution_count": 5,
      "metadata": {
        "colab": {
          "base_uri": "https://localhost:8080/"
        },
        "id": "CxtWnOdHsTv4",
        "outputId": "5d874410-cb07-46a2-9c22-83d541b7a91a"
      },
      "outputs": [
        {
          "name": "stdout",
          "output_type": "stream",
          "text": [
            "Il risultato della moltiplicazione tra i due numeri è: \n",
            "24\n"
          ]
        }
      ],
      "source": [
        "# Es 4.10: Creare la funzione moltiplica che restituisce il prodotto tra due numeri senza utilizzare *\n",
        "# 3*4 è uguale a 4+4+4\n",
        "def moltiplica(n,v):\n",
        "    i = 0\n",
        "    somma = 0\n",
        "    while i<n:\n",
        "        somma = somma + v\n",
        "        i=i+1\n",
        "    print (somma)\n",
        "\n",
        "n = int (input(\"Inserisci un numero intero\"))\n",
        "v = int (input(\"Inserisci un altro numero\"))\n",
        "print (\"Il risultato della moltiplicazione tra i due numeri è: \")\n",
        "moltiplica(n,v)"
      ]
    }
  ],
  "metadata": {
    "colab": {
      "provenance": []
    },
    "kernelspec": {
      "display_name": "Python 3",
      "name": "python3"
    },
    "language_info": {
      "codemirror_mode": {
        "name": "ipython",
        "version": 3
      },
      "file_extension": ".py",
      "mimetype": "text/x-python",
      "name": "python",
      "nbconvert_exporter": "python",
      "pygments_lexer": "ipython3",
      "version": "3.10.8"
    }
  },
  "nbformat": 4,
  "nbformat_minor": 0
}
